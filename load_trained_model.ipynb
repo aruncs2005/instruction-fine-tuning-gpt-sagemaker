{
 "cells": [
  {
   "cell_type": "code",
   "execution_count": null,
   "id": "4f195594",
   "metadata": {},
   "outputs": [],
   "source": [
    "! aws s3 cp <path_to_model.tar.gz> ."
   ]
  },
  {
   "cell_type": "code",
   "execution_count": null,
   "id": "4ccf6668",
   "metadata": {},
   "outputs": [],
   "source": [
    "! tar -xvf model.tar.gz"
   ]
  },
  {
   "cell_type": "code",
   "execution_count": null,
   "id": "3bcde671",
   "metadata": {},
   "outputs": [],
   "source": [
    "! pip install deepspeed"
   ]
  },
  {
   "cell_type": "code",
   "execution_count": null,
   "id": "4febbe5b",
   "metadata": {},
   "outputs": [],
   "source": [
    "! pip install transformers sentencepiece"
   ]
  },
  {
   "cell_type": "code",
   "execution_count": null,
   "id": "1f82ddf1",
   "metadata": {},
   "outputs": [],
   "source": [
    "import torch\n",
    "from sharded_data_parallel_checkpoint import get_full_state_dict_from_sharded_data_parallel_checkpoint"
   ]
  },
  {
   "cell_type": "code",
   "execution_count": null,
   "id": "e7cdcace",
   "metadata": {},
   "outputs": [],
   "source": [
    "full_model = get_full_state_dict_from_sharded_data_parallel_checkpoint(\".\", tag=f\"gptneo20b_instruct_finetuning_1_partial\",dtype=torch.float32)\n"
   ]
  },
  {
   "cell_type": "code",
   "execution_count": null,
   "id": "28065da4",
   "metadata": {},
   "outputs": [],
   "source": [
    "from transformers import (\n",
    "    CONFIG_MAPPING,\n",
    "    MODEL_MAPPING,\n",
    "    AutoConfig,\n",
    "    AutoModelForSeq2SeqLM,\n",
    "    AutoTokenizer\n",
    ")\n",
    "\n",
    "model_name = \"EleutherAI/gpt-j-6b\"\n",
    "\n",
    "config = AutoConfig.from_pretrained(model_name)"
   ]
  },
  {
   "cell_type": "code",
   "execution_count": null,
   "id": "d09f2529",
   "metadata": {},
   "outputs": [],
   "source": [
    "model = AutoModelForSeq2SeqLM.from_config(\n",
    "            config=config\n",
    "        )"
   ]
  },
  {
   "cell_type": "code",
   "execution_count": null,
   "id": "4d5ad9ac",
   "metadata": {},
   "outputs": [],
   "source": [
    "model.load_state_dict(full_model,strict=False)"
   ]
  },
  {
   "cell_type": "code",
   "execution_count": null,
   "id": "0be02308",
   "metadata": {},
   "outputs": [],
   "source": [
    "tokenizer = AutoTokenizer.from_pretrained(\".\")"
   ]
  },
  {
   "cell_type": "code",
   "execution_count": null,
   "id": "7e56b6db",
   "metadata": {},
   "outputs": [],
   "source": [
    "input_text = \"<sample text>\"\n"
   ]
  },
  {
   "cell_type": "code",
   "execution_count": null,
   "id": "eed79030",
   "metadata": {},
   "outputs": [],
   "source": [
    "def generate_response(text:str,min_length:str=20,max_new_tokens:str=50,temperature:float=1.0):\n",
    "    instruction = \"Below is an instruction that describes a task. Write a response that appropriately completes the request. ### Instruction: \"\n",
    "    response_prefix = \"### Response: \"\n",
    "    input = instruction + text + response_prefix\n",
    "    inputs = tokenizer(input,return_tensors=\"pt\")\n",
    "    outputs = model.generate(**inputs, early_stopping = True,\n",
    "          length_penalty = 2.0,\n",
    "          max_new_tokens = max_new_tokens,\n",
    "          temperature =  temperature,\n",
    "          min_length = min_length,\n",
    "          no_repeat_ngram_size = 2)\n",
    "    response = tokenizer.batch_decode(outputs, skip_special_tokens=True)[0]\n",
    "    if response.startswith(\"Response: \"):\n",
    "        response = response.replace(\"Response: \",\"\")\n",
    "    \n",
    "    return response"
   ]
  },
  {
   "cell_type": "code",
   "execution_count": null,
   "id": "c70f35fd",
   "metadata": {},
   "outputs": [],
   "source": [
    "print(generate_response(input_text))"
   ]
  },
  {
   "cell_type": "code",
   "execution_count": null,
   "id": "54606480",
   "metadata": {},
   "outputs": [],
   "source": []
  }
 ],
 "metadata": {
  "kernelspec": {
   "display_name": "conda_pytorch_p39",
   "language": "python",
   "name": "conda_pytorch_p39"
  },
  "language_info": {
   "codemirror_mode": {
    "name": "ipython",
    "version": 3
   },
   "file_extension": ".py",
   "mimetype": "text/x-python",
   "name": "python",
   "nbconvert_exporter": "python",
   "pygments_lexer": "ipython3",
   "version": "3.9.15"
  }
 },
 "nbformat": 4,
 "nbformat_minor": 5
}
